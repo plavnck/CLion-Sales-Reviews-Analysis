{
 "cells": [
  {
   "cell_type": "markdown",
   "id": "057356ba",
   "metadata": {},
   "source": [
    "# Анализ вопросов пользователей CLion в Stack Overflow"
   ]
  },
  {
   "cell_type": "code",
   "execution_count": 1,
   "id": "11dfe70c",
   "metadata": {},
   "outputs": [],
   "source": [
    "import nltk\n",
    "from rake_nltk import Rake\n",
    "import pandas as pd\n"
   ]
  },
  {
   "cell_type": "code",
   "execution_count": 2,
   "id": "8057f8c2",
   "metadata": {
    "scrolled": true
   },
   "outputs": [
    {
     "name": "stderr",
     "output_type": "stream",
     "text": [
      "[nltk_data] Downloading package punkt to /Users/i.plavnik/nltk_data...\n",
      "[nltk_data]   Package punkt is already up-to-date!\n"
     ]
    },
    {
     "data": {
      "text/plain": [
       "True"
      ]
     },
     "execution_count": 2,
     "metadata": {},
     "output_type": "execute_result"
    }
   ],
   "source": [
    "nltk.download(‘stopwords’)\n",
    "nltk.download('punkt')"
   ]
  },
  {
   "cell_type": "markdown",
   "id": "9a0924ec",
   "metadata": {},
   "source": [
    "### Импортирование данных, полученных в результате прогона SQL запроса Stack_Overflow_CLion_query.sql в Stack Overflow Exchange"
   ]
  },
  {
   "cell_type": "code",
   "execution_count": 6,
   "id": "c27d219b",
   "metadata": {},
   "outputs": [],
   "source": [
    "df = pd.read_csv('QueryResults (2).csv')"
   ]
  },
  {
   "cell_type": "markdown",
   "id": "8b95452b",
   "metadata": {},
   "source": [
    "### Ключевые слова, которые служат индикатором вопроса, в котором скорее всего пользователь рассказыват о проблеме, с которой он столкнулся при использовании CLion"
   ]
  },
  {
   "cell_type": "code",
   "execution_count": null,
   "id": "94797506",
   "metadata": {},
   "outputs": [],
   "source": [
    "keywords = ['error', 'failed', 'issue', 'errrors', 'fails', 'fail', 'issues', 'wont', 'cannot',\n",
    "                'exception', 'exceptions', 'undefined', 'problem', 'problems', 'trouble', 'troubles', 'fault']"
   ]
  },
  {
   "cell_type": "code",
   "execution_count": 19,
   "id": "c942a5c1",
   "metadata": {},
   "outputs": [],
   "source": [
    "keywords_dict = dict()\n",
    "keywords_top_example = dict()"
   ]
  },
  {
   "cell_type": "markdown",
   "id": "61d6f464",
   "metadata": {},
   "source": [
    "### Анализ ключевых слов в вопросах пользователей на Stack Overflow"
   ]
  },
  {
   "cell_type": "code",
   "execution_count": 20,
   "id": "e0dfaf90",
   "metadata": {},
   "outputs": [],
   "source": [
    "for i in range(0, len(df)):\n",
    "    rake_nltk_var = Rake()\n",
    "    text = df.iloc[i]['Title']\n",
    "    views =  df.iloc[i]['ViewCount']\n",
    "    \n",
    "    rake_nltk_var.extract_keywords_from_text(text)\n",
    "    keyword_extracted = rake_nltk_var.get_ranked_phrases()\n",
    "    key = keyword_extracted[0]\n",
    "    flag_kw = False\n",
    "    for kw in keywords:\n",
    "        if kw in key:\n",
    "            flag_kw = True\n",
    "    if flag_kw and len(key.split()) > 1:\n",
    "        if key not in keywords_dict.keys():\n",
    "            keywords_dict[key] = views\n",
    "            keywords_top_example[key] = {'views': views, 'Title': text, 'Body': df.iloc[i]['Body']}\n",
    "        else:\n",
    "            keywords_dict[key] += views\n",
    "            if keywords_top_example[key]['views'] < views:\n",
    "                keywords_top_example[key] = {'views': views, 'Title': text, 'Body': df.iloc[i]['Body']}\n",
    "\n",
    "        "
   ]
  },
  {
   "cell_type": "code",
   "execution_count": 22,
   "id": "7bdea451",
   "metadata": {},
   "outputs": [],
   "source": [
    "keywords_analysis_df = pd.DataFrame(columns=['keyword', 'views', 'top_example_title'])"
   ]
  },
  {
   "cell_type": "code",
   "execution_count": 26,
   "id": "902b57e8",
   "metadata": {},
   "outputs": [
    {
     "name": "stderr",
     "output_type": "stream",
     "text": [
      "/var/folders/1n/ht1_w_6n49d26f76pqqr3j5c6p385b/T/ipykernel_19494/2905057759.py:2: FutureWarning: The frame.append method is deprecated and will be removed from pandas in a future version. Use pandas.concat instead.\n",
      "  keywords_analysis_df = keywords_analysis_df.append({'keyword': key, 'views': value, 'top_example_title' : keywords_top_example[key]['Title']}, ignore_index=True)\n",
      "/var/folders/1n/ht1_w_6n49d26f76pqqr3j5c6p385b/T/ipykernel_19494/2905057759.py:2: FutureWarning: The frame.append method is deprecated and will be removed from pandas in a future version. Use pandas.concat instead.\n",
      "  keywords_analysis_df = keywords_analysis_df.append({'keyword': key, 'views': value, 'top_example_title' : keywords_top_example[key]['Title']}, ignore_index=True)\n",
      "/var/folders/1n/ht1_w_6n49d26f76pqqr3j5c6p385b/T/ipykernel_19494/2905057759.py:2: FutureWarning: The frame.append method is deprecated and will be removed from pandas in a future version. Use pandas.concat instead.\n",
      "  keywords_analysis_df = keywords_analysis_df.append({'keyword': key, 'views': value, 'top_example_title' : keywords_top_example[key]['Title']}, ignore_index=True)\n",
      "/var/folders/1n/ht1_w_6n49d26f76pqqr3j5c6p385b/T/ipykernel_19494/2905057759.py:2: FutureWarning: The frame.append method is deprecated and will be removed from pandas in a future version. Use pandas.concat instead.\n",
      "  keywords_analysis_df = keywords_analysis_df.append({'keyword': key, 'views': value, 'top_example_title' : keywords_top_example[key]['Title']}, ignore_index=True)\n",
      "/var/folders/1n/ht1_w_6n49d26f76pqqr3j5c6p385b/T/ipykernel_19494/2905057759.py:2: FutureWarning: The frame.append method is deprecated and will be removed from pandas in a future version. Use pandas.concat instead.\n",
      "  keywords_analysis_df = keywords_analysis_df.append({'keyword': key, 'views': value, 'top_example_title' : keywords_top_example[key]['Title']}, ignore_index=True)\n",
      "/var/folders/1n/ht1_w_6n49d26f76pqqr3j5c6p385b/T/ipykernel_19494/2905057759.py:2: FutureWarning: The frame.append method is deprecated and will be removed from pandas in a future version. Use pandas.concat instead.\n",
      "  keywords_analysis_df = keywords_analysis_df.append({'keyword': key, 'views': value, 'top_example_title' : keywords_top_example[key]['Title']}, ignore_index=True)\n",
      "/var/folders/1n/ht1_w_6n49d26f76pqqr3j5c6p385b/T/ipykernel_19494/2905057759.py:2: FutureWarning: The frame.append method is deprecated and will be removed from pandas in a future version. Use pandas.concat instead.\n",
      "  keywords_analysis_df = keywords_analysis_df.append({'keyword': key, 'views': value, 'top_example_title' : keywords_top_example[key]['Title']}, ignore_index=True)\n",
      "/var/folders/1n/ht1_w_6n49d26f76pqqr3j5c6p385b/T/ipykernel_19494/2905057759.py:2: FutureWarning: The frame.append method is deprecated and will be removed from pandas in a future version. Use pandas.concat instead.\n",
      "  keywords_analysis_df = keywords_analysis_df.append({'keyword': key, 'views': value, 'top_example_title' : keywords_top_example[key]['Title']}, ignore_index=True)\n",
      "/var/folders/1n/ht1_w_6n49d26f76pqqr3j5c6p385b/T/ipykernel_19494/2905057759.py:2: FutureWarning: The frame.append method is deprecated and will be removed from pandas in a future version. Use pandas.concat instead.\n",
      "  keywords_analysis_df = keywords_analysis_df.append({'keyword': key, 'views': value, 'top_example_title' : keywords_top_example[key]['Title']}, ignore_index=True)\n",
      "/var/folders/1n/ht1_w_6n49d26f76pqqr3j5c6p385b/T/ipykernel_19494/2905057759.py:2: FutureWarning: The frame.append method is deprecated and will be removed from pandas in a future version. Use pandas.concat instead.\n",
      "  keywords_analysis_df = keywords_analysis_df.append({'keyword': key, 'views': value, 'top_example_title' : keywords_top_example[key]['Title']}, ignore_index=True)\n",
      "/var/folders/1n/ht1_w_6n49d26f76pqqr3j5c6p385b/T/ipykernel_19494/2905057759.py:2: FutureWarning: The frame.append method is deprecated and will be removed from pandas in a future version. Use pandas.concat instead.\n",
      "  keywords_analysis_df = keywords_analysis_df.append({'keyword': key, 'views': value, 'top_example_title' : keywords_top_example[key]['Title']}, ignore_index=True)\n",
      "/var/folders/1n/ht1_w_6n49d26f76pqqr3j5c6p385b/T/ipykernel_19494/2905057759.py:2: FutureWarning: The frame.append method is deprecated and will be removed from pandas in a future version. Use pandas.concat instead.\n",
      "  keywords_analysis_df = keywords_analysis_df.append({'keyword': key, 'views': value, 'top_example_title' : keywords_top_example[key]['Title']}, ignore_index=True)\n",
      "/var/folders/1n/ht1_w_6n49d26f76pqqr3j5c6p385b/T/ipykernel_19494/2905057759.py:2: FutureWarning: The frame.append method is deprecated and will be removed from pandas in a future version. Use pandas.concat instead.\n",
      "  keywords_analysis_df = keywords_analysis_df.append({'keyword': key, 'views': value, 'top_example_title' : keywords_top_example[key]['Title']}, ignore_index=True)\n",
      "/var/folders/1n/ht1_w_6n49d26f76pqqr3j5c6p385b/T/ipykernel_19494/2905057759.py:2: FutureWarning: The frame.append method is deprecated and will be removed from pandas in a future version. Use pandas.concat instead.\n",
      "  keywords_analysis_df = keywords_analysis_df.append({'keyword': key, 'views': value, 'top_example_title' : keywords_top_example[key]['Title']}, ignore_index=True)\n",
      "/var/folders/1n/ht1_w_6n49d26f76pqqr3j5c6p385b/T/ipykernel_19494/2905057759.py:2: FutureWarning: The frame.append method is deprecated and will be removed from pandas in a future version. Use pandas.concat instead.\n",
      "  keywords_analysis_df = keywords_analysis_df.append({'keyword': key, 'views': value, 'top_example_title' : keywords_top_example[key]['Title']}, ignore_index=True)\n",
      "/var/folders/1n/ht1_w_6n49d26f76pqqr3j5c6p385b/T/ipykernel_19494/2905057759.py:2: FutureWarning: The frame.append method is deprecated and will be removed from pandas in a future version. Use pandas.concat instead.\n",
      "  keywords_analysis_df = keywords_analysis_df.append({'keyword': key, 'views': value, 'top_example_title' : keywords_top_example[key]['Title']}, ignore_index=True)\n",
      "/var/folders/1n/ht1_w_6n49d26f76pqqr3j5c6p385b/T/ipykernel_19494/2905057759.py:2: FutureWarning: The frame.append method is deprecated and will be removed from pandas in a future version. Use pandas.concat instead.\n",
      "  keywords_analysis_df = keywords_analysis_df.append({'keyword': key, 'views': value, 'top_example_title' : keywords_top_example[key]['Title']}, ignore_index=True)\n",
      "/var/folders/1n/ht1_w_6n49d26f76pqqr3j5c6p385b/T/ipykernel_19494/2905057759.py:2: FutureWarning: The frame.append method is deprecated and will be removed from pandas in a future version. Use pandas.concat instead.\n",
      "  keywords_analysis_df = keywords_analysis_df.append({'keyword': key, 'views': value, 'top_example_title' : keywords_top_example[key]['Title']}, ignore_index=True)\n",
      "/var/folders/1n/ht1_w_6n49d26f76pqqr3j5c6p385b/T/ipykernel_19494/2905057759.py:2: FutureWarning: The frame.append method is deprecated and will be removed from pandas in a future version. Use pandas.concat instead.\n",
      "  keywords_analysis_df = keywords_analysis_df.append({'keyword': key, 'views': value, 'top_example_title' : keywords_top_example[key]['Title']}, ignore_index=True)\n",
      "/var/folders/1n/ht1_w_6n49d26f76pqqr3j5c6p385b/T/ipykernel_19494/2905057759.py:2: FutureWarning: The frame.append method is deprecated and will be removed from pandas in a future version. Use pandas.concat instead.\n",
      "  keywords_analysis_df = keywords_analysis_df.append({'keyword': key, 'views': value, 'top_example_title' : keywords_top_example[key]['Title']}, ignore_index=True)\n",
      "/var/folders/1n/ht1_w_6n49d26f76pqqr3j5c6p385b/T/ipykernel_19494/2905057759.py:2: FutureWarning: The frame.append method is deprecated and will be removed from pandas in a future version. Use pandas.concat instead.\n",
      "  keywords_analysis_df = keywords_analysis_df.append({'keyword': key, 'views': value, 'top_example_title' : keywords_top_example[key]['Title']}, ignore_index=True)\n",
      "/var/folders/1n/ht1_w_6n49d26f76pqqr3j5c6p385b/T/ipykernel_19494/2905057759.py:2: FutureWarning: The frame.append method is deprecated and will be removed from pandas in a future version. Use pandas.concat instead.\n",
      "  keywords_analysis_df = keywords_analysis_df.append({'keyword': key, 'views': value, 'top_example_title' : keywords_top_example[key]['Title']}, ignore_index=True)\n",
      "/var/folders/1n/ht1_w_6n49d26f76pqqr3j5c6p385b/T/ipykernel_19494/2905057759.py:2: FutureWarning: The frame.append method is deprecated and will be removed from pandas in a future version. Use pandas.concat instead.\n",
      "  keywords_analysis_df = keywords_analysis_df.append({'keyword': key, 'views': value, 'top_example_title' : keywords_top_example[key]['Title']}, ignore_index=True)\n",
      "/var/folders/1n/ht1_w_6n49d26f76pqqr3j5c6p385b/T/ipykernel_19494/2905057759.py:2: FutureWarning: The frame.append method is deprecated and will be removed from pandas in a future version. Use pandas.concat instead.\n",
      "  keywords_analysis_df = keywords_analysis_df.append({'keyword': key, 'views': value, 'top_example_title' : keywords_top_example[key]['Title']}, ignore_index=True)\n",
      "/var/folders/1n/ht1_w_6n49d26f76pqqr3j5c6p385b/T/ipykernel_19494/2905057759.py:2: FutureWarning: The frame.append method is deprecated and will be removed from pandas in a future version. Use pandas.concat instead.\n",
      "  keywords_analysis_df = keywords_analysis_df.append({'keyword': key, 'views': value, 'top_example_title' : keywords_top_example[key]['Title']}, ignore_index=True)\n",
      "/var/folders/1n/ht1_w_6n49d26f76pqqr3j5c6p385b/T/ipykernel_19494/2905057759.py:2: FutureWarning: The frame.append method is deprecated and will be removed from pandas in a future version. Use pandas.concat instead.\n",
      "  keywords_analysis_df = keywords_analysis_df.append({'keyword': key, 'views': value, 'top_example_title' : keywords_top_example[key]['Title']}, ignore_index=True)\n",
      "/var/folders/1n/ht1_w_6n49d26f76pqqr3j5c6p385b/T/ipykernel_19494/2905057759.py:2: FutureWarning: The frame.append method is deprecated and will be removed from pandas in a future version. Use pandas.concat instead.\n",
      "  keywords_analysis_df = keywords_analysis_df.append({'keyword': key, 'views': value, 'top_example_title' : keywords_top_example[key]['Title']}, ignore_index=True)\n",
      "/var/folders/1n/ht1_w_6n49d26f76pqqr3j5c6p385b/T/ipykernel_19494/2905057759.py:2: FutureWarning: The frame.append method is deprecated and will be removed from pandas in a future version. Use pandas.concat instead.\n",
      "  keywords_analysis_df = keywords_analysis_df.append({'keyword': key, 'views': value, 'top_example_title' : keywords_top_example[key]['Title']}, ignore_index=True)\n"
     ]
    }
   ],
   "source": [
    "for key, value in keywords_dict.items():\n",
    "    keywords_analysis_df = keywords_analysis_df.append({'keyword': key, 'views': value, 'top_example_title' : keywords_top_example[key]['Title']}, ignore_index=True)\n",
    "    \n",
    "    \n",
    "    \n",
    "    "
   ]
  },
  {
   "cell_type": "code",
   "execution_count": 24,
   "id": "c043d866",
   "metadata": {},
   "outputs": [],
   "source": [
    "keywords_analysis_df = keywords_analysis_df.sort_values(by=['views'], ascending = False)"
   ]
  },
  {
   "cell_type": "markdown",
   "id": "b95ba7b5",
   "metadata": {},
   "source": [
    "### Топ 15 ключевых проблем, с которыми сталкивались пользователи CLion и о которых они спрашивали на Stack Overflow"
   ]
  },
  {
   "cell_type": "code",
   "execution_count": 25,
   "id": "2ee9939e",
   "metadata": {},
   "outputs": [
    {
     "data": {
      "text/html": [
       "<div>\n",
       "<style scoped>\n",
       "    .dataframe tbody tr th:only-of-type {\n",
       "        vertical-align: middle;\n",
       "    }\n",
       "\n",
       "    .dataframe tbody tr th {\n",
       "        vertical-align: top;\n",
       "    }\n",
       "\n",
       "    .dataframe thead th {\n",
       "        text-align: right;\n",
       "    }\n",
       "</style>\n",
       "<table border=\"1\" class=\"dataframe\">\n",
       "  <thead>\n",
       "    <tr style=\"text-align: right;\">\n",
       "      <th></th>\n",
       "      <th>keyword</th>\n",
       "      <th>views</th>\n",
       "      <th>top_example_title</th>\n",
       "      <th>top_example_body</th>\n",
       "    </tr>\n",
       "  </thead>\n",
       "  <tbody>\n",
       "    <tr>\n",
       "      <th>0</th>\n",
       "      <td>cannot get compiler information</td>\n",
       "      <td>6155</td>\n",
       "      <td>Clang with CLion: Cannot get compiler information</td>\n",
       "      <td>&lt;p&gt;I tried to switch from gcc to clang in CLio...</td>\n",
       "    </tr>\n",
       "    <tr>\n",
       "      <th>1</th>\n",
       "      <td>clion cannot run program</td>\n",
       "      <td>4732</td>\n",
       "      <td>CLion Cannot run program \"make\" The system can...</td>\n",
       "      <td>&lt;p&gt;When opening a makefile project in CLion I ...</td>\n",
       "    </tr>\n",
       "    <tr>\n",
       "      <th>2</th>\n",
       "      <td>program received segmentation fault</td>\n",
       "      <td>2994</td>\n",
       "      <td>Program received Segmentation fault while debu...</td>\n",
       "      <td>&lt;p&gt;I have the challenge to implement simplex-m...</td>\n",
       "    </tr>\n",
       "    <tr>\n",
       "      <th>3</th>\n",
       "      <td>math library linking error</td>\n",
       "      <td>2098</td>\n",
       "      <td>Math library linking error in CLion on Linux</td>\n",
       "      <td>&lt;p&gt;To do my homework I need &lt;code&gt;#include \"ma...</td>\n",
       "    </tr>\n",
       "    <tr>\n",
       "      <th>4</th>\n",
       "      <td>troubles using valgrind</td>\n",
       "      <td>1938</td>\n",
       "      <td>Having troubles using Valgrind with WSL on CLion</td>\n",
       "      <td>&lt;p&gt;Working on Windows 10, enabled WSL and inst...</td>\n",
       "    </tr>\n",
       "    <tr>\n",
       "      <th>5</th>\n",
       "      <td>clion cannot detect classes</td>\n",
       "      <td>1761</td>\n",
       "      <td>CLion cannot detect classes from sources, and ...</td>\n",
       "      <td>&lt;p&gt;I'm using CLion so I can (hopefully) have t...</td>\n",
       "    </tr>\n",
       "    <tr>\n",
       "      <th>6</th>\n",
       "      <td>cuda c ++ problems</td>\n",
       "      <td>1535</td>\n",
       "      <td>CUDA C++ problems with CMake on CLion IDE</td>\n",
       "      <td>&lt;p&gt;I'm trying to start a project with CUDA C++...</td>\n",
       "    </tr>\n",
       "    <tr>\n",
       "      <th>7</th>\n",
       "      <td>error running google test</td>\n",
       "      <td>1400</td>\n",
       "      <td>Error running google test on default in CLion</td>\n",
       "      <td>&lt;p&gt;So, unfortunatly I am unsure how to properl...</td>\n",
       "    </tr>\n",
       "    <tr>\n",
       "      <th>8</th>\n",
       "      <td>configure_file problem configuring file</td>\n",
       "      <td>1380</td>\n",
       "      <td>CMake Error: configure_file Problem Configurin...</td>\n",
       "      <td>&lt;p&gt;I am trying to setup my CLion on Windows wi...</td>\n",
       "    </tr>\n",
       "    <tr>\n",
       "      <th>9</th>\n",
       "      <td>clion wont run binary</td>\n",
       "      <td>1180</td>\n",
       "      <td>CLion wont run binary with address sanitizer</td>\n",
       "      <td>&lt;p&gt;I'm using CLion IDE, Cmake with GCC compile...</td>\n",
       "    </tr>\n",
       "    <tr>\n",
       "      <th>10</th>\n",
       "      <td>undefined reference</td>\n",
       "      <td>1168</td>\n",
       "      <td>undefined reference to `curl_easy_init' on CLi...</td>\n",
       "      <td>&lt;p&gt;I am trying to use curl inside c++ code. Ho...</td>\n",
       "    </tr>\n",
       "    <tr>\n",
       "      <th>11</th>\n",
       "      <td>cannot compile curl</td>\n",
       "      <td>1111</td>\n",
       "      <td>Cannot compile curl and libgcc as a static lib...</td>\n",
       "      <td>&lt;p&gt;I am trying to compile curl and libgcc as a...</td>\n",
       "    </tr>\n",
       "    <tr>\n",
       "      <th>12</th>\n",
       "      <td>cannot build clion project</td>\n",
       "      <td>998</td>\n",
       "      <td>Cannot build CLion project with .asm file</td>\n",
       "      <td>&lt;p&gt;running &lt;code&gt;CLion&lt;/code&gt; on &lt;code&gt;Linux&lt;/...</td>\n",
       "    </tr>\n",
       "    <tr>\n",
       "      <th>13</th>\n",
       "      <td>error creating process</td>\n",
       "      <td>874</td>\n",
       "      <td>Debugging Rust in Clion results in \"Error crea...</td>\n",
       "      <td>&lt;p&gt;I'm new to rust and would like to debug my ...</td>\n",
       "    </tr>\n",
       "    <tr>\n",
       "      <th>14</th>\n",
       "      <td>clion linker error</td>\n",
       "      <td>705</td>\n",
       "      <td>CLion Linker Error with Standard Library and GCC</td>\n",
       "      <td>&lt;p&gt;I am taking a class which requires the use ...</td>\n",
       "    </tr>\n",
       "  </tbody>\n",
       "</table>\n",
       "</div>"
      ],
      "text/plain": [
       "                                    keyword views  \\\n",
       "0           cannot get compiler information  6155   \n",
       "1                  clion cannot run program  4732   \n",
       "2       program received segmentation fault  2994   \n",
       "3                math library linking error  2098   \n",
       "4                   troubles using valgrind  1938   \n",
       "5               clion cannot detect classes  1761   \n",
       "6                        cuda c ++ problems  1535   \n",
       "7                 error running google test  1400   \n",
       "8   configure_file problem configuring file  1380   \n",
       "9                     clion wont run binary  1180   \n",
       "10                      undefined reference  1168   \n",
       "11                      cannot compile curl  1111   \n",
       "12               cannot build clion project   998   \n",
       "13                   error creating process   874   \n",
       "14                       clion linker error   705   \n",
       "\n",
       "                                    top_example_title  \\\n",
       "0   Clang with CLion: Cannot get compiler information   \n",
       "1   CLion Cannot run program \"make\" The system can...   \n",
       "2   Program received Segmentation fault while debu...   \n",
       "3        Math library linking error in CLion on Linux   \n",
       "4    Having troubles using Valgrind with WSL on CLion   \n",
       "5   CLion cannot detect classes from sources, and ...   \n",
       "6           CUDA C++ problems with CMake on CLion IDE   \n",
       "7       Error running google test on default in CLion   \n",
       "8   CMake Error: configure_file Problem Configurin...   \n",
       "9        CLion wont run binary with address sanitizer   \n",
       "10  undefined reference to `curl_easy_init' on CLi...   \n",
       "11  Cannot compile curl and libgcc as a static lib...   \n",
       "12          Cannot build CLion project with .asm file   \n",
       "13  Debugging Rust in Clion results in \"Error crea...   \n",
       "14   CLion Linker Error with Standard Library and GCC   \n",
       "\n",
       "                                     top_example_body  \n",
       "0   <p>I tried to switch from gcc to clang in CLio...  \n",
       "1   <p>When opening a makefile project in CLion I ...  \n",
       "2   <p>I have the challenge to implement simplex-m...  \n",
       "3   <p>To do my homework I need <code>#include \"ma...  \n",
       "4   <p>Working on Windows 10, enabled WSL and inst...  \n",
       "5   <p>I'm using CLion so I can (hopefully) have t...  \n",
       "6   <p>I'm trying to start a project with CUDA C++...  \n",
       "7   <p>So, unfortunatly I am unsure how to properl...  \n",
       "8   <p>I am trying to setup my CLion on Windows wi...  \n",
       "9   <p>I'm using CLion IDE, Cmake with GCC compile...  \n",
       "10  <p>I am trying to use curl inside c++ code. Ho...  \n",
       "11  <p>I am trying to compile curl and libgcc as a...  \n",
       "12  <p>running <code>CLion</code> on <code>Linux</...  \n",
       "13  <p>I'm new to rust and would like to debug my ...  \n",
       "14  <p>I am taking a class which requires the use ...  "
      ]
     },
     "execution_count": 25,
     "metadata": {},
     "output_type": "execute_result"
    }
   ],
   "source": [
    "keywords_analysis_df.iloc[:15].reset_index(drop=True)"
   ]
  }
 ],
 "metadata": {
  "kernelspec": {
   "display_name": "Python 3 (ipykernel)",
   "language": "python",
   "name": "python3"
  },
  "language_info": {
   "codemirror_mode": {
    "name": "ipython",
    "version": 3
   },
   "file_extension": ".py",
   "mimetype": "text/x-python",
   "name": "python",
   "nbconvert_exporter": "python",
   "pygments_lexer": "ipython3",
   "version": "3.9.7"
  }
 },
 "nbformat": 4,
 "nbformat_minor": 5
}
